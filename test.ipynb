{
 "cells": [
  {
   "cell_type": "code",
   "execution_count": null,
   "id": "a4c84331",
   "metadata": {},
   "outputs": [],
   "source": [
    "import openai\n",
    "import langchain\n",
    "import pinecone \n",
    "from langchain.document_loaders import PyPDFDirectoryLoader\n",
    "from langchain.text_splitter import RecursiveCharacterTextSplitter\n",
    "from langchain.embeddings.openai import OpenAIEmbeddings\n",
    "from langchain.vectorstores import Pinecone\n",
    "from langchain.llms import OpenAI\n",
    "import pypdf"
   ]
  },
  {
   "cell_type": "code",
   "execution_count": null,
   "id": "9f83d38b",
   "metadata": {},
   "outputs": [],
   "source": [
    "from dotenv import load_dotenv\n",
    "load_dotenv()"
   ]
  },
  {
   "cell_type": "code",
   "execution_count": null,
   "id": "e25b3a3b",
   "metadata": {},
   "outputs": [],
   "source": [
    "import pdfplumber\n",
    "\n",
    "with pdfplumber.open(\"documents/progress report-1-10.pdf\") as pdf:\n",
    "    file_contents = \"\"\n",
    "    for page in pdf.pages:\n",
    "        file_contents += page.extract_text()\n",
    "file_contents"
   ]
  },
  {
   "cell_type": "code",
   "execution_count": null,
   "id": "fe081c7a",
   "metadata": {},
   "outputs": [],
   "source": [
    "import getpass\n",
    "import os\n",
    "\n",
    "os.environ[\"COHERE_API_KEY\"] = os.getenv(\"COHERE_API_KEY\")\n",
    "from langchain_cohere import CohereEmbeddings\n",
    "\n",
    "embeddings = CohereEmbeddings(model=\"embed-english-v3.0\")"
   ]
  },
  {
   "cell_type": "code",
   "execution_count": null,
   "id": "c3a6157e",
   "metadata": {},
   "outputs": [],
   "source": [
    "from langchain_pinecone import PineconeVectorStore\n",
    "from pinecone import Pinecone\n",
    "\n",
    "pc = Pinecone(api_key=\"pcsk_ezfQK_D8tVnyuq3xKxvpYvXEoHhk42VjHVgB9aq7yLFyHdo2sUmVBnQj5hV1DXJLdLHnb\")\n",
    "index = pc.Index(\"nlp\")\n",
    "\n",
    "vector_store = PineconeVectorStore(embedding=embeddings, index=index)"
   ]
  },
  {
   "cell_type": "code",
   "execution_count": null,
   "id": "4c0c5f7a",
   "metadata": {},
   "outputs": [],
   "source": [
    "import fitz  # PyMuPDF\n",
    "\n",
    "def extract_text_from_pdf(pdf_path):\n",
    "    # Open the PDF file\n",
    "    doc = fitz.open(pdf_path)\n",
    "    all_text = \"\"\n",
    "\n",
    "    # Iterate over each page\n",
    "    for page in doc:\n",
    "        all_text += page.get_text()\n",
    "\n",
    "    doc.close()\n",
    "    return all_text\n",
    "\n",
    "if __name__ == \"__main__\":\n",
    "    pdf_path = \"documents/progress report-1-10.pdf\"  \n",
    "    text = extract_text_from_pdf(pdf_path)\n",
    "    print(text)\n"
   ]
  },
  {
   "cell_type": "code",
   "execution_count": null,
   "id": "07ef89ce",
   "metadata": {},
   "outputs": [],
   "source": [
    "import os\n",
    "from pathlib import Path\n",
    "\n",
    "def read_markdown_files(folder_path):\n",
    "    # Check if the folder exists\n",
    "    if not os.path.exists(folder_path):\n",
    "        print(f\"Error: Folder '{folder_path}' does not exist\")\n",
    "        return\n",
    "    \n",
    "    # Get all .md files in the folder\n",
    "    markdown_files = Path(folder_path).glob('*.md')\n",
    "    \n",
    "    # Counter for files found\n",
    "    files_found = 0\n",
    "    \n",
    "    # Read and print contents of each markdown file\n",
    "    for md_file in markdown_files:\n",
    "        files_found += 1\n",
    "        print(f\"\\n{'='*50}\")\n",
    "        print(f\"File: {md_file.name}\")\n",
    "        print(f\"{'='*50}\")\n",
    "        \n",
    "        try:\n",
    "            with open(md_file, 'r', encoding='utf-8') as file:\n",
    "                content = file.read()\n",
    "                print(content)\n",
    "        except Exception as e:\n",
    "            print(f\"Error reading file {md_file.name}: {str(e)}\")\n",
    "    \n",
    "    if files_found == 0:\n",
    "        print(\"No markdown files found in the specified folder\")\n",
    "\n",
    "# Usage\n",
    "folder_path = r\"C:\\Users\\Dell\\OneDrive\\Desktop\\project\\markdownfiles\"  # Your folder path\n",
    "read_markdown_files(folder_path)"
   ]
  },
  {
   "cell_type": "code",
   "execution_count": null,
   "id": "f06752c0",
   "metadata": {},
   "outputs": [],
   "source": [
    "# # Example documents\n",
    "# documents = [\"documents/progress report-1-10.pdf\"]\n",
    "\n",
    "# # Generate embeddings and push to Pinecone\n",
    "# for i, doc in enumerate(documents):\n",
    "#     with fitz.open(doc) as fitz_doc:  # Open the PDF file\n",
    "#         for page_num, page in enumerate(fitz_doc):\n",
    "#             page_text = page.get_text()  # Extract text from the page\n",
    "#             embedding = embeddings.embed_documents([page_text])[0]  # Generate embedding\n",
    "            \n",
    "#             # Add metadata to the vector\n",
    "#             metadata = {\n",
    "#                 \"document\": doc,\n",
    "#                 \"page\": page_num,\n",
    "#                 \"text\": page_text\n",
    "#             }\n",
    "            \n",
    "#             # Update Pinecone with embedding and metadata\n",
    "#             index.upsert(vectors=[\n",
    "#                 {\n",
    "#                     \"id\": f\"doc-{i}-page-{page_num}\",\n",
    "#                     \"values\": embedding,\n",
    "#                     \"metadata\": metadata\n",
    "#                 }\n",
    "#             ])"
   ]
  },
  {
   "cell_type": "code",
   "execution_count": null,
   "id": "c46d7578",
   "metadata": {},
   "outputs": [],
   "source": [
    "from pathlib import Path\n",
    "\n",
    "# Get all markdown files from the specified directory\n",
    "markdown_dir = r\"C:\\Users\\Dell\\OneDrive\\Desktop\\project\\markdownfiles\"\n",
    "markdown_files = list(Path(markdown_dir).glob('*.md'))\n",
    "\n",
    "# Process each markdown file\n",
    "for i, md_file in enumerate(markdown_files):\n",
    "    try:\n",
    "        # Read markdown file content\n",
    "        with open(md_file, 'r', encoding='utf-8') as file:\n",
    "            content = file.read()\n",
    "            \n",
    "        # Generate embedding for the content\n",
    "        embedding = embeddings.embed_documents([content])[0]\n",
    "        \n",
    "        # Add metadata\n",
    "        metadata = {\n",
    "            \"document\": str(md_file.name),\n",
    "            \"file_path\": str(md_file),\n",
    "            \"file_type\": \"markdown\",\n",
    "            \"text\": content\n",
    "        }\n",
    "        \n",
    "        # Update Pinecone with embedding and metadata\n",
    "        index.upsert(vectors=[\n",
    "            {\n",
    "                \"id\": f\"md-{i}\",\n",
    "                \"values\": embedding,\n",
    "                \"metadata\": metadata\n",
    "            }\n",
    "        ])\n",
    "        print(f\"Successfully embedded and uploaded: {md_file.name}\")\n",
    "        \n",
    "    except Exception as e:\n",
    "        print(f\"Error processing {md_file.name}: {str(e)}\")"
   ]
  },
  {
   "cell_type": "code",
   "execution_count": null,
   "id": "9b1ece73",
   "metadata": {},
   "outputs": [],
   "source": [
    "import getpass\n",
    "import os\n",
    "\n",
    "if not os.environ.get(\"GROQ_API_KEY\"):\n",
    "  os.environ[\"GROQ_API_KEY\"] = getpass.getpass(\"Enter API key for Groq: \")\n",
    "\n",
    "from langchain.chat_models import init_chat_model\n",
    "\n",
    "llm = init_chat_model(\"llama3-70b-8192\", model_provider=\"groq\")"
   ]
  },
  {
   "cell_type": "code",
   "execution_count": null,
   "id": "006448cf",
   "metadata": {},
   "outputs": [],
   "source": [
    "from langchain import hub\n",
    "from langchain_community.document_loaders import WebBaseLoader\n",
    "from langchain_core.documents import Document\n",
    "from langchain_text_splitters import RecursiveCharacterTextSplitter\n",
    "from typing_extensions import List, TypedDict\n",
    "\n",
    "from langgraph.graph import START, StateGraph\n",
    "\n",
    "\n",
    "prompt = hub.pull(\"rlm/rag-prompt\")\n",
    "prompt"
   ]
  },
  {
   "cell_type": "code",
   "execution_count": null,
   "id": "05669d49",
   "metadata": {},
   "outputs": [],
   "source": [
    "# Define state for application\n",
    "class State(TypedDict):\n",
    "    question: str\n",
    "    context: List[Document]\n",
    "    answer: str\n",
    "\n",
    "\n",
    "# Define application steps\n",
    "def retrieve(state: State):\n",
    "    retrieved_docs = vector_store.similarity_search(state[\"question\"])\n",
    "    return {\"context\": retrieved_docs}\n",
    "\n",
    "\n",
    "def generate(state: State):\n",
    "    docs_content = \"\\n\\n\".join(doc.page_content for doc in state[\"context\"])\n",
    "    messages = prompt.invoke({\"question\": state[\"question\"], \"context\": docs_content})\n",
    "    response = llm.invoke(messages)\n",
    "    return {\"answer\": response.content}\n",
    "\n",
    "\n",
    "# Compile application and test\n",
    "graph_builder = StateGraph(State).add_sequence([retrieve, generate])\n",
    "graph_builder.add_edge(START, \"retrieve\")\n",
    "graph = graph_builder.compile()\n",
    "\n"
   ]
  },
  {
   "cell_type": "code",
   "execution_count": null,
   "id": "e32a67d5",
   "metadata": {},
   "outputs": [],
   "source": [
    "response = graph.invoke({\"question\": \"what do you know about acdemic background of Aditya Vinayak \"})\n",
    "print(response[\"answer\"])"
   ]
  },
  {
   "cell_type": "code",
   "execution_count": null,
   "id": "a0615cc3",
   "metadata": {},
   "outputs": [],
   "source": [
    "response = graph.invoke({\"question\": \"How much attendance does Aditya Vinayak have in the Fundamentals of DBMS?\"})\n",
    "print(response[\"answer\"])"
   ]
  }
 ],
 "metadata": {
  "kernelspec": {
   "display_name": "myenv",
   "language": "python",
   "name": "python3"
  },
  "language_info": {
   "codemirror_mode": {
    "name": "ipython",
    "version": 3
   },
   "file_extension": ".py",
   "mimetype": "text/x-python",
   "name": "python",
   "nbconvert_exporter": "python",
   "pygments_lexer": "ipython3",
   "version": "3.12.0"
  }
 },
 "nbformat": 4,
 "nbformat_minor": 5
}
